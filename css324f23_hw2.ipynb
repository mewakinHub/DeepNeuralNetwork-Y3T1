{
 "cells": [
  {
   "cell_type": "markdown",
   "metadata": {
    "id": "1co9QUId36Eo"
   },
   "source": [
    "# CSS324 Homework Assignment 2\n",
    "\n",
    "CIFAR10 is a small image classification dataset. Its objective is to classification an 32x32 color image into 10 classes.\n",
    "\n",
    "See https://www.cs.toronto.edu/~kriz/cifar.html and https://keras.io/api/datasets/cifar10/ for more details."
   ]
  },
  {
   "cell_type": "markdown",
   "metadata": {},
   "source": [
    "## Group Members\n",
    "1. Teetawat Bussabarati 6422782423 \n",
    "2. Napat ... (Three)"
   ]
  },
  {
   "cell_type": "code",
   "execution_count": null,
   "metadata": {
    "id": "3zXtrgRH9oK5"
   },
   "outputs": [],
   "source": [
    "import tensorflow as tf\n",
    "import matplotlib.pyplot as plt\n",
    "import numpy as np"
   ]
  },
  {
   "cell_type": "code",
   "execution_count": 2,
   "metadata": {
    "id": "ZMSl6MYp33eW"
   },
   "outputs": [],
   "source": [
    "# Load CIFAR10 dataset\n",
    "(x, y), (x_test, y_test) = tf.keras.datasets.cifar10.load_data()\n",
    "y, y_test = y.flatten(), y_test.flatten()\n",
    "x = x / 255\n",
    "x_test = x_test / 255"
   ]
  },
  {
   "cell_type": "code",
   "execution_count": 3,
   "metadata": {
    "colab": {
     "base_uri": "https://localhost:8080/",
     "height": 283
    },
    "id": "Vwoz3JDK98Jy",
    "outputId": "627a3eb3-0c0b-4cb9-8228-dcbb387cd32a"
   },
   "outputs": [
    {
     "data": {
      "image/png": "[encoded data removed]",
      "text/plain": [
       "<Figure size 640x480 with 1 Axes>"
      ]
     },
     "metadata": {},
     "output_type": "display_data"
    },
    {
     "name": "stdout",
     "output_type": "stream",
     "text": [
      "Class= 7\n"
     ]
    }
   ],
   "source": [
    "# Plot a training example\n",
    "plt.imshow(x[11, :, :, :])\n",
    "plt.show()\n",
    "print(f\"Class= {y[11]}\")        # 7 = horse"
   ]
  },
  {
   "cell_type": "code",
   "execution_count": 4,
   "metadata": {},
   "outputs": [
    {
     "name": "stdout",
     "output_type": "stream",
     "text": [
      "Shape of the datasets\n",
      "Training set   = (40000, 32, 32, 3) (40000,)\n",
      "Validation set = (10000, 32, 32, 3) (10000,)\n",
      "Test set       = (10000, 32, 32, 3) (10000,)\n"
     ]
    }
   ],
   "source": [
    "# Split the training set\n",
    "from sklearn.model_selection import train_test_split\n",
    "\n",
    "X_train, X_valid, y_train, y_valid = train_test_split(x, y, test_size=0.2, random_state=11)\n",
    "X_test = x_test\n",
    "\n",
    "print(\"Shape of the datasets\")\n",
    "print(\"Training set   =\", X_train.shape, y_train.shape)\n",
    "print(\"Validation set =\", X_valid.shape, y_valid.shape)\n",
    "print(\"Test set       =\", X_test.shape, y_test.shape)"
   ]
  },
  {
   "cell_type": "code",
   "execution_count": 5,
   "metadata": {},
   "outputs": [
    {
     "name": "stdout",
     "output_type": "stream",
     "text": [
      "Metal device set to: Apple M1 Max\n",
      "\n",
      "systemMemory: 64.00 GB\n",
      "maxCacheSize: 24.00 GB\n",
      "\n"
     ]
    },
    {
     "name": "stderr",
     "output_type": "stream",
     "text": [
      "2023-11-15 11:42:55.481448: I tensorflow/core/common_runtime/pluggable_device/pluggable_device_factory.cc:306] Could not identify NUMA node of platform GPU ID 0, defaulting to 0. Your kernel may not have been built with NUMA support.\n",
      "2023-11-15 11:42:55.481859: I tensorflow/core/common_runtime/pluggable_device/pluggable_device_factory.cc:272] Created TensorFlow device (/job:localhost/replica:0/task:0/device:GPU:0 with 0 MB memory) -> physical PluggableDevice (device: 0, name: METAL, pci bus id: <undefined>)\n"
     ]
    }
   ],
   "source": [
    "# Use one-hot encoding for y\n",
    "Y_train = tf.one_hot(y_train, 10)\n",
    "Y_valid = tf.one_hot(y_valid, 10)\n",
    "Y_test = tf.one_hot(y_test, 10)"
   ]
  },
  {
   "cell_type": "markdown",
   "metadata": {
    "id": "lFt4OqeP_Buc"
   },
   "source": [
    "## Task\n",
    "\n",
    "Construct a deep neural network to classify images in the CIFAR10 dataset. You can choose the numbers of hidden nodes, appropriate activation functions, regularizers, or the structure of the network. \n",
    "\n",
    "After the training process, print the training, validation, and test accuracies, as well as plot the training loss and validation loss.\n",
    "\n",
    "**Contraints**\n",
    " - The number of weight layers must be less than or equal to 6.\n",
    " - The number of training epochs must be set to 50.\n",
    " - Your model must achieve the test accuracy of at least 60%.\n",
    "\n",
    "**Rules**\n",
    " - This is a group work. Each group can compose of up to three members."
   ]
  },
  {
   "cell_type": "code",
   "execution_count": 6,
   "metadata": {
    "id": "kpuD33bU__mt"
   },
   "outputs": [
    {
     "name": "stdout",
     "output_type": "stream",
     "text": [
      "Model: \"sequential\"\n",
      "_________________________________________________________________\n",
      " Layer (type)                Output Shape              Param #   \n",
      "=================================================================\n",
      " flatten (Flatten)           (None, 3072)              0         \n",
      "                                                                 \n",
      " dense (Dense)               (None, 500)               1536500   \n",
      "                                                                 \n",
      " dense_1 (Dense)             (None, 10)                5010      \n",
      "                                                                 \n",
      "=================================================================\n",
      "Total params: 1,541,510\n",
      "Trainable params: 1,541,510\n",
      "Non-trainable params: 0\n",
      "_________________________________________________________________\n",
      "Epoch 1/50\n"
     ]
    },
    {
     "name": "stderr",
     "output_type": "stream",
     "text": [
      "2023-11-15 11:42:56.494731: W tensorflow/core/platform/profile_utils/cpu_utils.cc:128] Failed to get CPU frequency: 0 Hz\n",
      "2023-11-15 11:42:56.764228: I tensorflow/core/grappler/optimizers/custom_graph_optimizer_registry.cc:114] Plugin optimizer for device_type GPU is enabled.\n"
     ]
    },
    {
     "name": "stdout",
     "output_type": "stream",
     "text": [
      "10/10 [==============================] - ETA: 0s - loss: 2.3414 - accuracy: 0.1654"
     ]
    },
    {
     "name": "stderr",
     "output_type": "stream",
     "text": [
      "2023-11-15 11:43:00.028888: I tensorflow/core/grappler/optimizers/custom_graph_optimizer_registry.cc:114] Plugin optimizer for device_type GPU is enabled.\n"
     ]
    },
    {
     "name": "stdout",
     "output_type": "stream",
     "text": [
      "10/10 [==============================] - 5s 305ms/step - loss: 2.3414 - accuracy: 0.1654 - val_loss: 2.1150 - val_accuracy: 0.2412\n",
      "Epoch 2/50\n",
      "10/10 [==============================] - 1s 88ms/step - loss: 2.0449 - accuracy: 0.2632 - val_loss: 1.9890 - val_accuracy: 0.2919\n",
      "Epoch 3/50\n",
      "10/10 [==============================] - 1s 87ms/step - loss: 1.9404 - accuracy: 0.3147 - val_loss: 1.9138 - val_accuracy: 0.3351\n",
      "Epoch 4/50\n",
      "10/10 [==============================] - 1s 87ms/step - loss: 1.8860 - accuracy: 0.3410 - val_loss: 1.8728 - val_accuracy: 0.3466\n",
      "Epoch 5/50\n",
      "10/10 [==============================] - 1s 87ms/step - loss: 1.8513 - accuracy: 0.3558 - val_loss: 1.8471 - val_accuracy: 0.3587\n",
      "Epoch 6/50\n",
      "10/10 [==============================] - 1s 87ms/step - loss: 1.8235 - accuracy: 0.3656 - val_loss: 1.8196 - val_accuracy: 0.3737\n",
      "Epoch 7/50\n",
      "10/10 [==============================] - 1s 86ms/step - loss: 1.7988 - accuracy: 0.3776 - val_loss: 1.7942 - val_accuracy: 0.3812\n",
      "Epoch 8/50\n",
      "10/10 [==============================] - 1s 87ms/step - loss: 1.7766 - accuracy: 0.3813 - val_loss: 1.7825 - val_accuracy: 0.3805\n",
      "Epoch 9/50\n",
      "10/10 [==============================] - 1s 87ms/step - loss: 1.7572 - accuracy: 0.3932 - val_loss: 1.7630 - val_accuracy: 0.3910\n",
      "Epoch 10/50\n",
      "10/10 [==============================] - 1s 87ms/step - loss: 1.7421 - accuracy: 0.3965 - val_loss: 1.7463 - val_accuracy: 0.3929\n",
      "Epoch 11/50\n",
      "10/10 [==============================] - 1s 87ms/step - loss: 1.7264 - accuracy: 0.4018 - val_loss: 1.7333 - val_accuracy: 0.4010\n",
      "Epoch 12/50\n",
      "10/10 [==============================] - 1s 87ms/step - loss: 1.7077 - accuracy: 0.4096 - val_loss: 1.7155 - val_accuracy: 0.4067\n",
      "Epoch 13/50\n",
      "10/10 [==============================] - 1s 87ms/step - loss: 1.6930 - accuracy: 0.4148 - val_loss: 1.7019 - val_accuracy: 0.4096\n",
      "Epoch 14/50\n",
      "10/10 [==============================] - 1s 87ms/step - loss: 1.6814 - accuracy: 0.4168 - val_loss: 1.6996 - val_accuracy: 0.4054\n",
      "Epoch 15/50\n",
      "10/10 [==============================] - 1s 87ms/step - loss: 1.6692 - accuracy: 0.4235 - val_loss: 1.6826 - val_accuracy: 0.4132\n",
      "Epoch 16/50\n",
      "10/10 [==============================] - 1s 87ms/step - loss: 1.6547 - accuracy: 0.4284 - val_loss: 1.6729 - val_accuracy: 0.4198\n",
      "Epoch 17/50\n",
      "10/10 [==============================] - 1s 87ms/step - loss: 1.6425 - accuracy: 0.4338 - val_loss: 1.6696 - val_accuracy: 0.4199\n",
      "Epoch 18/50\n",
      "10/10 [==============================] - 1s 88ms/step - loss: 1.6356 - accuracy: 0.4349 - val_loss: 1.6622 - val_accuracy: 0.4185\n",
      "Epoch 19/50\n",
      "10/10 [==============================] - 1s 87ms/step - loss: 1.6254 - accuracy: 0.4381 - val_loss: 1.6508 - val_accuracy: 0.4312\n",
      "Epoch 20/50\n",
      "10/10 [==============================] - 1s 87ms/step - loss: 1.6125 - accuracy: 0.4444 - val_loss: 1.6430 - val_accuracy: 0.4286\n",
      "Epoch 21/50\n",
      "10/10 [==============================] - 1s 87ms/step - loss: 1.6043 - accuracy: 0.4480 - val_loss: 1.6327 - val_accuracy: 0.4314\n",
      "Epoch 22/50\n",
      "10/10 [==============================] - 1s 87ms/step - loss: 1.5936 - accuracy: 0.4497 - val_loss: 1.6235 - val_accuracy: 0.4330\n",
      "Epoch 23/50\n",
      "10/10 [==============================] - 1s 87ms/step - loss: 1.5862 - accuracy: 0.4516 - val_loss: 1.6192 - val_accuracy: 0.4382\n",
      "Epoch 24/50\n",
      "10/10 [==============================] - 1s 87ms/step - loss: 1.5814 - accuracy: 0.4542 - val_loss: 1.6111 - val_accuracy: 0.4390\n",
      "Epoch 25/50\n",
      "10/10 [==============================] - 1s 87ms/step - loss: 1.5721 - accuracy: 0.4570 - val_loss: 1.5993 - val_accuracy: 0.4474\n",
      "Epoch 26/50\n",
      "10/10 [==============================] - 1s 87ms/step - loss: 1.5618 - accuracy: 0.4618 - val_loss: 1.5960 - val_accuracy: 0.4461\n",
      "Epoch 27/50\n",
      "10/10 [==============================] - 1s 87ms/step - loss: 1.5515 - accuracy: 0.4660 - val_loss: 1.5913 - val_accuracy: 0.4451\n",
      "Epoch 28/50\n",
      "10/10 [==============================] - 1s 87ms/step - loss: 1.5465 - accuracy: 0.4680 - val_loss: 1.5915 - val_accuracy: 0.4492\n",
      "Epoch 29/50\n",
      "10/10 [==============================] - 1s 87ms/step - loss: 1.5388 - accuracy: 0.4697 - val_loss: 1.5834 - val_accuracy: 0.4556\n",
      "Epoch 30/50\n",
      "10/10 [==============================] - 1s 89ms/step - loss: 1.5350 - accuracy: 0.4698 - val_loss: 1.5820 - val_accuracy: 0.4498\n",
      "Epoch 31/50\n",
      "10/10 [==============================] - 1s 88ms/step - loss: 1.5312 - accuracy: 0.4715 - val_loss: 1.5826 - val_accuracy: 0.4514\n",
      "Epoch 32/50\n",
      "10/10 [==============================] - 1s 90ms/step - loss: 1.5268 - accuracy: 0.4733 - val_loss: 1.5703 - val_accuracy: 0.4503\n",
      "Epoch 33/50\n",
      "10/10 [==============================] - 1s 88ms/step - loss: 1.5171 - accuracy: 0.4781 - val_loss: 1.5657 - val_accuracy: 0.4577\n",
      "Epoch 34/50\n",
      "10/10 [==============================] - 1s 88ms/step - loss: 1.5107 - accuracy: 0.4812 - val_loss: 1.5568 - val_accuracy: 0.4534\n",
      "Epoch 35/50\n",
      "10/10 [==============================] - 1s 89ms/step - loss: 1.5022 - accuracy: 0.4825 - val_loss: 1.5622 - val_accuracy: 0.4508\n",
      "Epoch 36/50\n",
      "10/10 [==============================] - 1s 90ms/step - loss: 1.4984 - accuracy: 0.4863 - val_loss: 1.5472 - val_accuracy: 0.4631\n",
      "Epoch 37/50\n",
      "10/10 [==============================] - 1s 88ms/step - loss: 1.4933 - accuracy: 0.4857 - val_loss: 1.5435 - val_accuracy: 0.4614\n",
      "Epoch 38/50\n",
      "10/10 [==============================] - 1s 88ms/step - loss: 1.4886 - accuracy: 0.4866 - val_loss: 1.5443 - val_accuracy: 0.4638\n",
      "Epoch 39/50\n",
      "10/10 [==============================] - 1s 87ms/step - loss: 1.4857 - accuracy: 0.4875 - val_loss: 1.5479 - val_accuracy: 0.4660\n",
      "Epoch 40/50\n",
      "10/10 [==============================] - 1s 86ms/step - loss: 1.4782 - accuracy: 0.4907 - val_loss: 1.5335 - val_accuracy: 0.4688\n",
      "Epoch 41/50\n",
      "10/10 [==============================] - 1s 87ms/step - loss: 1.4712 - accuracy: 0.4935 - val_loss: 1.5299 - val_accuracy: 0.4699\n",
      "Epoch 42/50\n",
      "10/10 [==============================] - 1s 87ms/step - loss: 1.4672 - accuracy: 0.4968 - val_loss: 1.5393 - val_accuracy: 0.4690\n",
      "Epoch 43/50\n",
      "10/10 [==============================] - 1s 87ms/step - loss: 1.4623 - accuracy: 0.4974 - val_loss: 1.5271 - val_accuracy: 0.4705\n",
      "Epoch 44/50\n",
      "10/10 [==============================] - 1s 87ms/step - loss: 1.4564 - accuracy: 0.4992 - val_loss: 1.5205 - val_accuracy: 0.4753\n",
      "Epoch 45/50\n",
      "10/10 [==============================] - 1s 87ms/step - loss: 1.4514 - accuracy: 0.5031 - val_loss: 1.5151 - val_accuracy: 0.4738\n",
      "Epoch 46/50\n",
      "10/10 [==============================] - 1s 87ms/step - loss: 1.4476 - accuracy: 0.5039 - val_loss: 1.5147 - val_accuracy: 0.4764\n",
      "Epoch 47/50\n",
      "10/10 [==============================] - 1s 87ms/step - loss: 1.4430 - accuracy: 0.5047 - val_loss: 1.5172 - val_accuracy: 0.4703\n",
      "Epoch 48/50\n",
      "10/10 [==============================] - 1s 87ms/step - loss: 1.4357 - accuracy: 0.5082 - val_loss: 1.5066 - val_accuracy: 0.4783\n",
      "Epoch 49/50\n",
      "10/10 [==============================] - 1s 87ms/step - loss: 1.4317 - accuracy: 0.5091 - val_loss: 1.5033 - val_accuracy: 0.4812\n",
      "Epoch 50/50\n",
      "10/10 [==============================] - 1s 86ms/step - loss: 1.4294 - accuracy: 0.5106 - val_loss: 1.5133 - val_accuracy: 0.4687\n"
     ]
    }
   ],
   "source": [
    "# Your implementation for Question 1\n",
    "from tensorflow.keras import Sequential\n",
    "from tensorflow.keras.layers import Input, Dense, Flatten\n",
    "\n",
    "model = Sequential([\n",
    "    Input(shape=(32, 32, 3)),\n",
    "    Flatten(),\n",
    "    Dense(500, activation='relu'),\n",
    "    Dense(10, activation='softmax')\n",
    "])\n",
    "\n",
    "model.summary()\n",
    "\n",
    "model.compile(optimizer=tf.keras.optimizers.Adam(3e-4), loss='categorical_crossentropy', metrics=['accuracy'])\n",
    "\n",
    "hist1 = model.fit(X_train, Y_train, batch_size=4096, validation_data=(X_valid, Y_valid), epochs=50)"
   ]
  },
  {
   "cell_type": "code",
   "execution_count": 7,
   "metadata": {
    "id": "3Amk91Chjzqz"
   },
   "outputs": [
    {
     "data": {
      "image/png": "[encoded data removed]",
      "text/plain": [
       "<Figure size 640x480 with 1 Axes>"
      ]
     },
     "metadata": {},
     "output_type": "display_data"
    }
   ],
   "source": [
    "# Plot the training loss and validation loss\n",
    "N = len(hist1.history['loss'])\n",
    "plt.plot(np.arange(N), hist1.history['loss'])\n",
    "plt.plot(np.arange(N), hist1.history['val_loss'])\n",
    "plt.ylabel('loss')\n",
    "plt.xlabel('epoch')\n",
    "plt.legend(['training_loss', 'val_loss'], loc='upper right')\n",
    "plt.show()"
   ]
  },
  {
   "cell_type": "code",
   "execution_count": 8,
   "metadata": {},
   "outputs": [
    {
     "name": "stdout",
     "output_type": "stream",
     "text": [
      "Training accuracy   = 0.5060\n",
      "Validation accuracy = 0.4687\n",
      "Test accuracy       = 0.4719\n"
     ]
    }
   ],
   "source": [
    "res = model.evaluate(X_train, Y_train, verbose=0, batch_size=2048)\n",
    "print(f\"Training accuracy   = {res[1]:.4f}\")\n",
    "res = model.evaluate(X_valid, Y_valid, verbose=0, batch_size=2048)\n",
    "print(f\"Validation accuracy = {res[1]:.4f}\")\n",
    "res = model.evaluate(X_test, Y_test, verbose=0, batch_size=2048)\n",
    "print(f\"Test accuracy       = {res[1]:.4f}\")"
   ]
  }
 ],
 "metadata": {
  "accelerator": "GPU",
  "colab": {
   "provenance": []
  },
  "kernelspec": {
   "display_name": "Python 3 (ipykernel)",
   "language": "python",
   "name": "python3"
  },
  "language_info": {
   "codemirror_mode": {
    "name": "ipython",
    "version": 3
   },
   "file_extension": ".py",
   "mimetype": "text/x-python",
   "name": "python",
   "nbconvert_exporter": "python",
   "pygments_lexer": "ipython3",
   "version": "3.10.12"
  }
 },
 "nbformat": 4,
 "nbformat_minor": 4
}

{
  "cells": [
    {
      "cell_type": "markdown",
      "metadata": {
        "id": "view-in-github",
        "colab_type": "text"
      },
      "source": [
        "<a href=\"https://colab.research.google.com/github/mewakinHub/DeepNeuralNetwork-Y3T1/blob/main/css324f23_hw2.ipynb\" target=\"_parent\"><img src=\"https://colab.research.google.com/assets/colab-badge.svg\" alt=\"Open In Colab\"/></a>"
      ]
    },
    {
      "cell_type": "markdown",
      "metadata": {
        "id": "1co9QUId36Eo"
      },
      "source": [
        "# CSS324 Homework Assignment 2\n",
        "\n",
        "CIFAR10 is a small image classification dataset. Its objective is to classification an 32x32 color image into 10 classes.\n",
        "\n",
        "See https://www.cs.toronto.edu/~kriz/cifar.html and https://keras.io/api/datasets/cifar10/ for more details."
      ]
    },
    {
      "cell_type": "markdown",
      "metadata": {
        "id": "Oy_NXcY4JkNq"
      },
      "source": [
        "## Group Members\n",
        "1. Teetawat Bussabarati 6422782423\n",
        "2. Napat Ariyapattanaporn 6422782399\n"
      ]
    },
    {
      "cell_type": "code",
      "execution_count": 2,
      "metadata": {
        "id": "3zXtrgRH9oK5"
      },
      "outputs": [],
      "source": [
        "# Load necessary libraries\n",
        "import tensorflow as tf # creating and training neural networks\n",
        "import matplotlib.pyplot as plt # for plotting\n",
        "import numpy as np #  for numerical operations"
      ]
    },
    {
      "cell_type": "code",
      "execution_count": 4,
      "metadata": {
        "id": "ZMSl6MYp33eW"
      },
      "outputs": [],
      "source": [
        "# Load CIFAR10 dataset using TensorFlow's Keras API\n",
        "(x, y), (x_test, y_test) = tf.keras.datasets.cifar10.load_data()\n",
        "y, y_test = y.flatten(), y_test.flatten()\n",
        "x = x / 255\n",
        "x_test = x_test / 255\n",
        "# The dataset is then normalized by dividing the pixel values by 255 to scale them between 0 and 1."
      ]
    },
    {
      "cell_type": "markdown",
      "source": [
        "Each pixel in the images of the CIFAR-10 dataset originally has a value between 0 and 255, where 0 represents black and 255 represents white (for grayscale images). By dividing each pixel value by 255, the pixel values are scaled to the range [0, 1].\n",
        "\n",
        "The CIFAR-10 dataset\n",
        "The CIFAR-10 dataset consists of 60000 32x32 colour images in 10 classes, with 6000 images per class. There are 50000 training images and 10000 test images."
      ],
      "metadata": {
        "id": "sNavMVnbacv1"
      }
    },
    {
      "cell_type": "code",
      "execution_count": 5,
      "metadata": {
        "colab": {
          "base_uri": "https://localhost:8080/",
          "height": 447
        },
        "id": "Vwoz3JDK98Jy",
        "outputId": "e163bb2f-5cd5-41a5-c195-8ed6beed7606"
      },
      "outputs": [
        {
          "output_type": "display_data",
          "data": {
            "text/plain": [
              "<Figure size 640x480 with 1 Axes>"
            ],
            "image/png": "[encoded data removed]"
          },
          "metadata": {}
        },
        {
          "output_type": "stream",
          "name": "stdout",
          "text": [
            "Class= 7\n"
          ]
        }
      ],
      "source": [
        "# Plot a training example\n",
        "plt.imshow(x[11, :, :, :])\n",
        "plt.show()\n",
        "print(f\"Class= {y[11]}\")        # 7 = horse"
      ]
    },
    {
      "cell_type": "markdown",
      "source": [
        "The colon : is a slice operator that means \"all elements along this axis.\"\n",
        "The notation x[11, :, :, :] is used to select the 12th image in a 4D NumPy array.\n",
        "\n",
        "Axis 0: Index of the image in the dataset (in this case, 11 for the 12th image).\n",
        "Axis 1: Width of the image.\n",
        "Axis 2: Height of the image.\n",
        "Axis 3: Channels or color information in the image (for RGB images, it would be 3 for red, green, and blue channels).\n",
        "\n",
        "x[11] gives you the pixel values of the 12th image in the dataset, and y[11] gives you the class label associated with that image. The combination of an image (x[11]) and its corresponding label (y[11]) is a common structure in supervised machine learning datasets where you have input-output pairs for training a model."
      ],
      "metadata": {
        "id": "7fRZRrLSbgwq"
      }
    },
    {
      "cell_type": "code",
      "execution_count": 6,
      "metadata": {
        "colab": {
          "base_uri": "https://localhost:8080/"
        },
        "id": "4yMle9ivJkN1",
        "outputId": "bee4b0b7-0a08-4927-c4f3-835b87e76514"
      },
      "outputs": [
        {
          "output_type": "stream",
          "name": "stdout",
          "text": [
            "Shape of the datasets\n",
            "Training set   = (40000, 32, 32, 3) (40000,)\n",
            "Validation set = (10000, 32, 32, 3) (10000,)\n",
            "Test set       = (10000, 32, 32, 3) (10000,)\n"
          ]
        }
      ],
      "source": [
        "# Split the training set\n",
        "from sklearn.model_selection import train_test_split\n",
        "\n",
        "X_train, X_valid, y_train, y_valid = train_test_split(x, y, test_size=0.2, random_state=11)\n",
        "X_test = x_test\n",
        "\n",
        "print(\"Shape of the datasets\")\n",
        "print(\"Training set   =\", X_train.shape, y_train.shape)\n",
        "print(\"Validation set =\", X_valid.shape, y_valid.shape)\n",
        "print(\"Test set       =\", X_test.shape, y_test.shape)"
      ]
    },
    {
      "cell_type": "code",
      "execution_count": 7,
      "metadata": {
        "id": "GfGCWm-hJkN2"
      },
      "outputs": [],
      "source": [
        "# Use one-hot encoding for y\n",
        "Y_train = tf.one_hot(y_train, 10)\n",
        "Y_valid = tf.one_hot(y_valid, 10)\n",
        "Y_test = tf.one_hot(y_test, 10)"
      ]
    },
    {
      "cell_type": "markdown",
      "metadata": {
        "id": "lFt4OqeP_Buc"
      },
      "source": [
        "## Task\n",
        "\n",
        "Construct a deep neural network to classify images in the CIFAR10 dataset. You can choose the numbers of hidden nodes, appropriate activation functions, regularizers, or the structure of the network.\n",
        "\n",
        "After the training process, print the training, validation, and test accuracies, as well as plot the training loss and validation loss.\n",
        "\n",
        "**Contraints**\n",
        " - The number of weight layers must be less than or equal to 6.\n",
        " - The number of training epochs must be set to 50.\n",
        " - Your model must achieve the test accuracy of at least 60%.\n",
        "\n",
        "**Rules**\n",
        " - This is a group work. Each group can compose of up to three members."
      ]
    },
    {
      "cell_type": "code",
      "execution_count": 8,
      "metadata": {
        "id": "kpuD33bU__mt",
        "colab": {
          "base_uri": "https://localhost:8080/"
        },
        "outputId": "349fab83-293a-45cb-c25e-4b1cf1ab92e3"
      },
      "outputs": [
        {
          "output_type": "stream",
          "name": "stdout",
          "text": [
            "Model: \"sequential\"\n",
            "_________________________________________________________________\n",
            " Layer (type)                Output Shape              Param #   \n",
            "=================================================================\n",
            " flatten (Flatten)           (None, 3072)              0         \n",
            "                                                                 \n",
            " dense (Dense)               (None, 500)               1536500   \n",
            "                                                                 \n",
            " dense_1 (Dense)             (None, 10)                5010      \n",
            "                                                                 \n",
            "=================================================================\n",
            "Total params: 1541510 (5.88 MB)\n",
            "Trainable params: 1541510 (5.88 MB)\n",
            "Non-trainable params: 0 (0.00 Byte)\n",
            "_________________________________________________________________\n",
            "Epoch 1/50\n",
            "10/10 [==============================] - 6s 110ms/step - loss: 2.3756 - accuracy: 0.1533 - val_loss: 2.1135 - val_accuracy: 0.2089\n",
            "Epoch 2/50\n",
            "10/10 [==============================] - 0s 48ms/step - loss: 2.0525 - accuracy: 0.2552 - val_loss: 1.9930 - val_accuracy: 0.2781\n",
            "Epoch 3/50\n",
            "10/10 [==============================] - 0s 49ms/step - loss: 1.9490 - accuracy: 0.3084 - val_loss: 1.9248 - val_accuracy: 0.3205\n",
            "Epoch 4/50\n",
            "10/10 [==============================] - 0s 47ms/step - loss: 1.8931 - accuracy: 0.3368 - val_loss: 1.8741 - val_accuracy: 0.3504\n",
            "Epoch 5/50\n",
            "10/10 [==============================] - 0s 48ms/step - loss: 1.8527 - accuracy: 0.3544 - val_loss: 1.8414 - val_accuracy: 0.3622\n",
            "Epoch 6/50\n",
            "10/10 [==============================] - 0s 47ms/step - loss: 1.8213 - accuracy: 0.3688 - val_loss: 1.8169 - val_accuracy: 0.3693\n",
            "Epoch 7/50\n",
            "10/10 [==============================] - 1s 54ms/step - loss: 1.7967 - accuracy: 0.3788 - val_loss: 1.7913 - val_accuracy: 0.3790\n",
            "Epoch 8/50\n",
            "10/10 [==============================] - 0s 48ms/step - loss: 1.7730 - accuracy: 0.3871 - val_loss: 1.7742 - val_accuracy: 0.3867\n",
            "Epoch 9/50\n",
            "10/10 [==============================] - 0s 49ms/step - loss: 1.7535 - accuracy: 0.3927 - val_loss: 1.7552 - val_accuracy: 0.3956\n",
            "Epoch 10/50\n",
            "10/10 [==============================] - 0s 48ms/step - loss: 1.7328 - accuracy: 0.4022 - val_loss: 1.7346 - val_accuracy: 0.3996\n",
            "Epoch 11/50\n",
            "10/10 [==============================] - 0s 49ms/step - loss: 1.7152 - accuracy: 0.4076 - val_loss: 1.7297 - val_accuracy: 0.3961\n",
            "Epoch 12/50\n",
            "10/10 [==============================] - 1s 56ms/step - loss: 1.7019 - accuracy: 0.4108 - val_loss: 1.7212 - val_accuracy: 0.3922\n",
            "Epoch 13/50\n",
            "10/10 [==============================] - 1s 57ms/step - loss: 1.6859 - accuracy: 0.4149 - val_loss: 1.6937 - val_accuracy: 0.4162\n",
            "Epoch 14/50\n",
            "10/10 [==============================] - 1s 79ms/step - loss: 1.6685 - accuracy: 0.4226 - val_loss: 1.6797 - val_accuracy: 0.4173\n",
            "Epoch 15/50\n",
            "10/10 [==============================] - 1s 73ms/step - loss: 1.6539 - accuracy: 0.4320 - val_loss: 1.6706 - val_accuracy: 0.4218\n",
            "Epoch 16/50\n",
            "10/10 [==============================] - 1s 78ms/step - loss: 1.6450 - accuracy: 0.4314 - val_loss: 1.6680 - val_accuracy: 0.4218\n",
            "Epoch 17/50\n",
            "10/10 [==============================] - 1s 73ms/step - loss: 1.6339 - accuracy: 0.4369 - val_loss: 1.6554 - val_accuracy: 0.4203\n",
            "Epoch 18/50\n",
            "10/10 [==============================] - 1s 69ms/step - loss: 1.6256 - accuracy: 0.4390 - val_loss: 1.6509 - val_accuracy: 0.4255\n",
            "Epoch 19/50\n",
            "10/10 [==============================] - 0s 50ms/step - loss: 1.6145 - accuracy: 0.4441 - val_loss: 1.6391 - val_accuracy: 0.4302\n",
            "Epoch 20/50\n",
            "10/10 [==============================] - 1s 55ms/step - loss: 1.6036 - accuracy: 0.4480 - val_loss: 1.6288 - val_accuracy: 0.4327\n",
            "Epoch 21/50\n",
            "10/10 [==============================] - 0s 49ms/step - loss: 1.5933 - accuracy: 0.4505 - val_loss: 1.6205 - val_accuracy: 0.4356\n",
            "Epoch 22/50\n",
            "10/10 [==============================] - 0s 47ms/step - loss: 1.5831 - accuracy: 0.4540 - val_loss: 1.6120 - val_accuracy: 0.4376\n",
            "Epoch 23/50\n",
            "10/10 [==============================] - 0s 49ms/step - loss: 1.5759 - accuracy: 0.4591 - val_loss: 1.6129 - val_accuracy: 0.4366\n",
            "Epoch 24/50\n",
            "10/10 [==============================] - 0s 50ms/step - loss: 1.5672 - accuracy: 0.4625 - val_loss: 1.6010 - val_accuracy: 0.4425\n",
            "Epoch 25/50\n",
            "10/10 [==============================] - 1s 54ms/step - loss: 1.5587 - accuracy: 0.4649 - val_loss: 1.6002 - val_accuracy: 0.4465\n",
            "Epoch 26/50\n",
            "10/10 [==============================] - 0s 49ms/step - loss: 1.5542 - accuracy: 0.4660 - val_loss: 1.5947 - val_accuracy: 0.4477\n",
            "Epoch 27/50\n",
            "10/10 [==============================] - 1s 54ms/step - loss: 1.5472 - accuracy: 0.4655 - val_loss: 1.5882 - val_accuracy: 0.4522\n",
            "Epoch 28/50\n",
            "10/10 [==============================] - 1s 53ms/step - loss: 1.5420 - accuracy: 0.4684 - val_loss: 1.5857 - val_accuracy: 0.4457\n",
            "Epoch 29/50\n",
            "10/10 [==============================] - 0s 49ms/step - loss: 1.5358 - accuracy: 0.4701 - val_loss: 1.5770 - val_accuracy: 0.4545\n",
            "Epoch 30/50\n",
            "10/10 [==============================] - 0s 49ms/step - loss: 1.5267 - accuracy: 0.4762 - val_loss: 1.5838 - val_accuracy: 0.4469\n",
            "Epoch 31/50\n",
            "10/10 [==============================] - 0s 48ms/step - loss: 1.5232 - accuracy: 0.4755 - val_loss: 1.5687 - val_accuracy: 0.4552\n",
            "Epoch 32/50\n",
            "10/10 [==============================] - 1s 53ms/step - loss: 1.5130 - accuracy: 0.4798 - val_loss: 1.5588 - val_accuracy: 0.4579\n",
            "Epoch 33/50\n",
            "10/10 [==============================] - 1s 53ms/step - loss: 1.5068 - accuracy: 0.4835 - val_loss: 1.5675 - val_accuracy: 0.4491\n",
            "Epoch 34/50\n",
            "10/10 [==============================] - 0s 49ms/step - loss: 1.5056 - accuracy: 0.4816 - val_loss: 1.5634 - val_accuracy: 0.4542\n",
            "Epoch 35/50\n",
            "10/10 [==============================] - 0s 49ms/step - loss: 1.5066 - accuracy: 0.4806 - val_loss: 1.5592 - val_accuracy: 0.4565\n",
            "Epoch 36/50\n",
            "10/10 [==============================] - 1s 55ms/step - loss: 1.4956 - accuracy: 0.4857 - val_loss: 1.5595 - val_accuracy: 0.4564\n",
            "Epoch 37/50\n",
            "10/10 [==============================] - 1s 55ms/step - loss: 1.4864 - accuracy: 0.4889 - val_loss: 1.5458 - val_accuracy: 0.4625\n",
            "Epoch 38/50\n",
            "10/10 [==============================] - 0s 52ms/step - loss: 1.4835 - accuracy: 0.4895 - val_loss: 1.5430 - val_accuracy: 0.4670\n",
            "Epoch 39/50\n",
            "10/10 [==============================] - 1s 85ms/step - loss: 1.4798 - accuracy: 0.4920 - val_loss: 1.5366 - val_accuracy: 0.4665\n",
            "Epoch 40/50\n",
            "10/10 [==============================] - 1s 75ms/step - loss: 1.4709 - accuracy: 0.4942 - val_loss: 1.5332 - val_accuracy: 0.4666\n",
            "Epoch 41/50\n",
            "10/10 [==============================] - 1s 75ms/step - loss: 1.4644 - accuracy: 0.4964 - val_loss: 1.5295 - val_accuracy: 0.4647\n",
            "Epoch 42/50\n",
            "10/10 [==============================] - 1s 72ms/step - loss: 1.4611 - accuracy: 0.4988 - val_loss: 1.5294 - val_accuracy: 0.4698\n",
            "Epoch 43/50\n",
            "10/10 [==============================] - 1s 68ms/step - loss: 1.4576 - accuracy: 0.4985 - val_loss: 1.5296 - val_accuracy: 0.4684\n",
            "Epoch 44/50\n",
            "10/10 [==============================] - 1s 64ms/step - loss: 1.4562 - accuracy: 0.4987 - val_loss: 1.5218 - val_accuracy: 0.4722\n",
            "Epoch 45/50\n",
            "10/10 [==============================] - 0s 49ms/step - loss: 1.4579 - accuracy: 0.4952 - val_loss: 1.5300 - val_accuracy: 0.4635\n",
            "Epoch 46/50\n",
            "10/10 [==============================] - 0s 51ms/step - loss: 1.4492 - accuracy: 0.4997 - val_loss: 1.5205 - val_accuracy: 0.4730\n",
            "Epoch 47/50\n",
            "10/10 [==============================] - 0s 49ms/step - loss: 1.4380 - accuracy: 0.5051 - val_loss: 1.5097 - val_accuracy: 0.4770\n",
            "Epoch 48/50\n",
            "10/10 [==============================] - 0s 50ms/step - loss: 1.4331 - accuracy: 0.5088 - val_loss: 1.5097 - val_accuracy: 0.4776\n",
            "Epoch 49/50\n",
            "10/10 [==============================] - 1s 55ms/step - loss: 1.4311 - accuracy: 0.5087 - val_loss: 1.5026 - val_accuracy: 0.4798\n",
            "Epoch 50/50\n",
            "10/10 [==============================] - 0s 44ms/step - loss: 1.4251 - accuracy: 0.5124 - val_loss: 1.5087 - val_accuracy: 0.4748\n"
          ]
        }
      ],
      "source": [
        "# Your implementation for Question 1\n",
        "from tensorflow.keras import Sequential\n",
        "from tensorflow.keras.layers import Input, Dense, Flatten\n",
        "\n",
        "model = Sequential([\n",
        "    Input(shape=(32, 32, 3)),\n",
        "    Flatten(),\n",
        "    Dense(500, activation='relu'),\n",
        "    Dense(10, activation='softmax')\n",
        "])\n",
        "\n",
        "model.summary()\n",
        "\n",
        "model.compile(optimizer=tf.keras.optimizers.Adam(3e-4), loss='categorical_crossentropy', metrics=['accuracy'])\n",
        "\n",
        "hist1 = model.fit(X_train, Y_train, batch_size=4096, validation_data=(X_valid, Y_valid), epochs=50)"
      ]
    },
    {
      "cell_type": "code",
      "execution_count": 9,
      "metadata": {
        "id": "3Amk91Chjzqz",
        "colab": {
          "base_uri": "https://localhost:8080/",
          "height": 449
        },
        "outputId": "4da655f5-4d80-4225-ebed-dc867d596191"
      },
      "outputs": [
        {
          "output_type": "display_data",
          "data": {
            "text/plain": [
              "<Figure size 640x480 with 1 Axes>"
            ],
            "image/png": "[encoded data removed]"
          },
          "metadata": {}
        }
      ],
      "source": [
        "# Plot the training loss and validation loss\n",
        "N = len(hist1.history['loss'])\n",
        "plt.plot(np.arange(N), hist1.history['loss'])\n",
        "plt.plot(np.arange(N), hist1.history['val_loss'])\n",
        "plt.ylabel('loss')\n",
        "plt.xlabel('epoch')\n",
        "plt.legend(['training_loss', 'val_loss'], loc='upper right')\n",
        "plt.show()"
      ]
    },
    {
      "cell_type": "code",
      "execution_count": 10,
      "metadata": {
        "colab": {
          "base_uri": "https://localhost:8080/"
        },
        "id": "u2sqrBhMJkN6",
        "outputId": "c693babe-d092-49fe-d0cc-d675c92188de"
      },
      "outputs": [
        {
          "output_type": "stream",
          "name": "stdout",
          "text": [
            "Training accuracy   = 0.5105\n",
            "Validation accuracy = 0.4748\n",
            "Test accuracy       = 0.4730\n"
          ]
        }
      ],
      "source": [
        "res = model.evaluate(X_train, Y_train, verbose=0, batch_size=2048)\n",
        "print(f\"Training accuracy   = {res[1]:.4f}\")\n",
        "res = model.evaluate(X_valid, Y_valid, verbose=0, batch_size=2048)\n",
        "print(f\"Validation accuracy = {res[1]:.4f}\")\n",
        "res = model.evaluate(X_test, Y_test, verbose=0, batch_size=2048)\n",
        "print(f\"Test accuracy       = {res[1]:.4f}\")"
      ]
    }
  ],
  "metadata": {
    "colab": {
      "provenance": [],
      "include_colab_link": true
    },
    "kernelspec": {
      "display_name": "Python 3 (ipykernel)",
      "language": "python",
      "name": "python3"
    },
    "language_info": {
      "codemirror_mode": {
        "name": "ipython",
        "version": 3
      },
      "file_extension": ".py",
      "mimetype": "text/x-python",
      "name": "python",
      "nbconvert_exporter": "python",
      "pygments_lexer": "ipython3",
      "version": "3.10.12"
    }
  },
  "nbformat": 4,
  "nbformat_minor": 0
}
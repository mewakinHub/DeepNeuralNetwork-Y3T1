{
  "cells": [
    {
      "cell_type": "markdown",
      "metadata": {
        "id": "view-in-github",
        "colab_type": "text"
      },
      "source": [
        "<a href=\"https://colab.research.google.com/github/mewakinHub/DeepNeuralNetwork-Y3T1/blob/main/css324f23_hw2.ipynb\" target=\"_parent\"><img src=\"https://colab.research.google.com/assets/colab-badge.svg\" alt=\"Open In Colab\"/></a>"
      ]
    },
    {
      "cell_type": "markdown",
      "metadata": {
        "id": "1co9QUId36Eo"
      },
      "source": [
        "# CSS324 Homework Assignment 2\n",
        "\n",
        "CIFAR10 is a small image classification dataset. Its objective is to classification an 32x32 color image into 10 classes.\n",
        "\n",
        "See https://www.cs.toronto.edu/~kriz/cifar.html and https://keras.io/api/datasets/cifar10/ for more details."
      ]
    },
    {
      "cell_type": "markdown",
      "metadata": {
        "id": "Oy_NXcY4JkNq"
      },
      "source": [
        "## Group Members\n",
        "1. Teetawat Bussabarati 6422782423\n",
        "2. Napat Ariyapattanaporn 6422782399\n"
      ]
    },
    {
      "cell_type": "code",
      "execution_count": 10,
      "metadata": {
        "id": "3zXtrgRH9oK5"
      },
      "outputs": [],
      "source": [
        "# Load necessary libraries\n",
        "import tensorflow as tf # creating and training neural networks\n",
        "import matplotlib.pyplot as plt # for plotting\n",
        "import numpy as np #  for numerical operations"
      ]
    },
    {
      "cell_type": "code",
      "execution_count": 11,
      "metadata": {
        "id": "ZMSl6MYp33eW"
      },
      "outputs": [],
      "source": [
        "# Load CIFAR10 dataset using TensorFlow's Keras API\n",
        "(x, y), (x_test, y_test) = tf.keras.datasets.cifar10.load_data()\n",
        "y, y_test = y.flatten(), y_test.flatten()\n",
        "x = x / 255\n",
        "x_test = x_test / 255\n",
        "# The dataset is then normalized by dividing the pixel values by 255 to scale them between 0 and 1."
      ]
    },
    {
      "cell_type": "markdown",
      "source": [
        "Each pixel in the images of the CIFAR-10 dataset originally has a value between 0 and 255, where 0 represents black and 255 represents white (for grayscale images). By dividing each pixel value by 255, the pixel values are scaled to the range [0, 1].\n",
        "\n",
        "The CIFAR-10 dataset\n",
        "The CIFAR-10 dataset consists of 60000 32x32 colour images in 10 classes, with 6000 images per class. There are 50000 training images and 10000 test images."
      ],
      "metadata": {
        "id": "sNavMVnbacv1"
      }
    },
    {
      "cell_type": "code",
      "execution_count": 12,
      "metadata": {
        "colab": {
          "base_uri": "https://localhost:8080/",
          "height": 447
        },
        "id": "Vwoz3JDK98Jy",
        "outputId": "ceadfa2d-3334-4b7f-91ac-3d260651ec00"
      },
      "outputs": [
        {
          "output_type": "display_data",
          "data": {
            "text/plain": [
              "<Figure size 640x480 with 1 Axes>"
            ],
            "image/png": "[encoded data removed]"
          },
          "metadata": {}
        },
        {
          "output_type": "stream",
          "name": "stdout",
          "text": [
            "Class= 7\n"
          ]
        }
      ],
      "source": [
        "# Plot a training example\n",
        "plt.imshow(x[11, :, :, :])\n",
        "plt.show()\n",
        "print(f\"Class= {y[11]}\")        # 7 = horse"
      ]
    },
    {
      "cell_type": "markdown",
      "source": [
        "The colon : is a slice operator that means \"all elements along this axis.\"\n",
        "The notation x[11, :, :, :] is used to select the 12th image in a 4D NumPy array.\n",
        "\n",
        "Axis 0: Index of the image in the dataset (in this case, 11 for the 12th image).\n",
        "Axis 1: Width of the image.\n",
        "Axis 2: Height of the image.\n",
        "Axis 3: Channels or color information in the image (for RGB images, it would be 3 for red, green, and blue channels).\n",
        "\n",
        "x[11] gives you the pixel values of the 12th image in the dataset, and y[11] gives you the class label associated with that image. The combination of an image (x[11]) and its corresponding label (y[11]) is a common structure in supervised machine learning datasets where you have input-output pairs for training a model."
      ],
      "metadata": {
        "id": "7fRZRrLSbgwq"
      }
    },
    {
      "cell_type": "code",
      "execution_count": 13,
      "metadata": {
        "colab": {
          "base_uri": "https://localhost:8080/"
        },
        "id": "4yMle9ivJkN1",
        "outputId": "5523c3c4-d674-4b81-accf-19b1a0dce2e4"
      },
      "outputs": [
        {
          "output_type": "stream",
          "name": "stdout",
          "text": [
            "Shape of the datasets\n",
            "Training set   = (40000, 32, 32, 3) (40000,)\n",
            "Validation set = (10000, 32, 32, 3) (10000,)\n",
            "Test set       = (10000, 32, 32, 3) (10000,)\n"
          ]
        }
      ],
      "source": [
        "# Split the training set\n",
        "from sklearn.model_selection import train_test_split\n",
        "\n",
        "X_train, X_valid, y_train, y_valid = train_test_split(x, y, test_size=0.2, random_state=11)\n",
        "X_test = x_test\n",
        "\n",
        "print(\"Shape of the datasets\")\n",
        "print(\"Training set   =\", X_train.shape, y_train.shape)\n",
        "print(\"Validation set =\", X_valid.shape, y_valid.shape)\n",
        "print(\"Test set       =\", X_test.shape, y_test.shape)"
      ]
    },
    {
      "cell_type": "code",
      "execution_count": 14,
      "metadata": {
        "id": "GfGCWm-hJkN2"
      },
      "outputs": [],
      "source": [
        "# Use one-hot encoding for y\n",
        "Y_train = tf.one_hot(y_train, 10)\n",
        "Y_valid = tf.one_hot(y_valid, 10)\n",
        "Y_test = tf.one_hot(y_test, 10)"
      ]
    },
    {
      "cell_type": "markdown",
      "metadata": {
        "id": "lFt4OqeP_Buc"
      },
      "source": [
        "## Task\n",
        "\n",
        "Construct a deep neural network to classify images in the CIFAR10 dataset. You can choose the numbers of hidden nodes, appropriate activation functions, regularizers, or the structure of the network.\n",
        "\n",
        "After the training process, print the training, validation, and test accuracies, as well as plot the training loss and validation loss.\n",
        "\n",
        "**Contraints**\n",
        " - The number of weight layers must be less than or equal to 6.\n",
        " - The number of training epochs must be set to 50.\n",
        " - Your model must achieve the test accuracy of at least 60%.\n",
        "\n",
        "**Rules**\n",
        " - This is a group work. Each group can compose of up to three members."
      ]
    },
    {
      "cell_type": "code",
      "execution_count": 15,
      "metadata": {
        "id": "kpuD33bU__mt",
        "colab": {
          "base_uri": "https://localhost:8080/"
        },
        "outputId": "0e96a22d-dc01-4847-ac61-a3fb15cd5f5b"
      },
      "outputs": [
        {
          "output_type": "stream",
          "name": "stdout",
          "text": [
            "Epoch 1/50\n",
            "625/625 [==============================] - 12s 13ms/step - loss: 1.5578 - accuracy: 0.4856 - val_loss: 1.2164 - val_accuracy: 0.5627\n",
            "Epoch 2/50\n",
            "625/625 [==============================] - 7s 12ms/step - loss: 1.0271 - accuracy: 0.6392 - val_loss: 0.9406 - val_accuracy: 0.6669\n",
            "Epoch 3/50\n",
            "625/625 [==============================] - 8s 12ms/step - loss: 0.8799 - accuracy: 0.6933 - val_loss: 1.0185 - val_accuracy: 0.6434\n",
            "Epoch 4/50\n",
            "625/625 [==============================] - 7s 11ms/step - loss: 0.7979 - accuracy: 0.7217 - val_loss: 0.8722 - val_accuracy: 0.6965\n",
            "Epoch 5/50\n",
            "625/625 [==============================] - 8s 12ms/step - loss: 0.7294 - accuracy: 0.7431 - val_loss: 0.7715 - val_accuracy: 0.7342\n",
            "Epoch 6/50\n",
            "625/625 [==============================] - 7s 12ms/step - loss: 0.6737 - accuracy: 0.7641 - val_loss: 0.7530 - val_accuracy: 0.7402\n",
            "Epoch 7/50\n",
            "625/625 [==============================] - 9s 14ms/step - loss: 0.6272 - accuracy: 0.7805 - val_loss: 0.7335 - val_accuracy: 0.7478\n",
            "Epoch 8/50\n",
            "625/625 [==============================] - 7s 12ms/step - loss: 0.5800 - accuracy: 0.7939 - val_loss: 0.7165 - val_accuracy: 0.7535\n",
            "Epoch 9/50\n",
            "625/625 [==============================] - 8s 12ms/step - loss: 0.5468 - accuracy: 0.8061 - val_loss: 0.6655 - val_accuracy: 0.7743\n",
            "Epoch 10/50\n",
            "625/625 [==============================] - 7s 12ms/step - loss: 0.5084 - accuracy: 0.8239 - val_loss: 0.6778 - val_accuracy: 0.7737\n",
            "Epoch 11/50\n",
            "625/625 [==============================] - 8s 13ms/step - loss: 0.4835 - accuracy: 0.8299 - val_loss: 0.7067 - val_accuracy: 0.7574\n",
            "Epoch 12/50\n",
            "625/625 [==============================] - 7s 11ms/step - loss: 0.4480 - accuracy: 0.8418 - val_loss: 0.6614 - val_accuracy: 0.7793\n",
            "Epoch 13/50\n",
            "625/625 [==============================] - 8s 12ms/step - loss: 0.4227 - accuracy: 0.8505 - val_loss: 0.6590 - val_accuracy: 0.7879\n",
            "Epoch 14/50\n",
            "625/625 [==============================] - 7s 12ms/step - loss: 0.4132 - accuracy: 0.8548 - val_loss: 0.7686 - val_accuracy: 0.7615\n",
            "Epoch 15/50\n",
            "625/625 [==============================] - 8s 13ms/step - loss: 0.3823 - accuracy: 0.8632 - val_loss: 0.6699 - val_accuracy: 0.7851\n",
            "Epoch 16/50\n",
            "625/625 [==============================] - 7s 12ms/step - loss: 0.3714 - accuracy: 0.8687 - val_loss: 0.6819 - val_accuracy: 0.7818\n",
            "Epoch 17/50\n",
            "625/625 [==============================] - 8s 13ms/step - loss: 0.3541 - accuracy: 0.8729 - val_loss: 0.7550 - val_accuracy: 0.7633\n",
            "Epoch 18/50\n",
            "625/625 [==============================] - 7s 12ms/step - loss: 0.3411 - accuracy: 0.8796 - val_loss: 0.7076 - val_accuracy: 0.7794\n",
            "Epoch 19/50\n",
            "625/625 [==============================] - 8s 13ms/step - loss: 0.3304 - accuracy: 0.8826 - val_loss: 0.6611 - val_accuracy: 0.7928\n",
            "Epoch 20/50\n",
            "625/625 [==============================] - 7s 12ms/step - loss: 0.3128 - accuracy: 0.8878 - val_loss: 0.8260 - val_accuracy: 0.7573\n",
            "Epoch 21/50\n",
            "625/625 [==============================] - 8s 13ms/step - loss: 0.3006 - accuracy: 0.8936 - val_loss: 0.6999 - val_accuracy: 0.7877\n",
            "Epoch 22/50\n",
            "625/625 [==============================] - 7s 11ms/step - loss: 0.2903 - accuracy: 0.8983 - val_loss: 0.6538 - val_accuracy: 0.7949\n",
            "Epoch 23/50\n",
            "625/625 [==============================] - 8s 12ms/step - loss: 0.2795 - accuracy: 0.9005 - val_loss: 0.7992 - val_accuracy: 0.7641\n",
            "Epoch 24/50\n",
            "625/625 [==============================] - 7s 12ms/step - loss: 0.2745 - accuracy: 0.9018 - val_loss: 0.6694 - val_accuracy: 0.8005\n",
            "Epoch 25/50\n",
            "625/625 [==============================] - 8s 12ms/step - loss: 0.2666 - accuracy: 0.9046 - val_loss: 0.8624 - val_accuracy: 0.7685\n",
            "Epoch 26/50\n",
            "625/625 [==============================] - 7s 12ms/step - loss: 0.2556 - accuracy: 0.9093 - val_loss: 0.6896 - val_accuracy: 0.7960\n",
            "Epoch 27/50\n",
            "625/625 [==============================] - 8s 13ms/step - loss: 0.2533 - accuracy: 0.9105 - val_loss: 0.6788 - val_accuracy: 0.7947\n",
            "Epoch 28/50\n",
            "625/625 [==============================] - 7s 12ms/step - loss: 0.2513 - accuracy: 0.9108 - val_loss: 0.7304 - val_accuracy: 0.7970\n",
            "Epoch 29/50\n",
            "625/625 [==============================] - 8s 12ms/step - loss: 0.2379 - accuracy: 0.9143 - val_loss: 0.6771 - val_accuracy: 0.8006\n",
            "Epoch 30/50\n",
            "625/625 [==============================] - 7s 12ms/step - loss: 0.2335 - accuracy: 0.9173 - val_loss: 0.6937 - val_accuracy: 0.8066\n",
            "Epoch 31/50\n",
            "625/625 [==============================] - 8s 12ms/step - loss: 0.2297 - accuracy: 0.9188 - val_loss: 0.7129 - val_accuracy: 0.8010\n",
            "Epoch 32/50\n",
            "625/625 [==============================] - 7s 12ms/step - loss: 0.2191 - accuracy: 0.9223 - val_loss: 0.7198 - val_accuracy: 0.8008\n",
            "Epoch 33/50\n",
            "625/625 [==============================] - 8s 12ms/step - loss: 0.2232 - accuracy: 0.9205 - val_loss: 0.7217 - val_accuracy: 0.8039\n",
            "Epoch 34/50\n",
            "625/625 [==============================] - 7s 12ms/step - loss: 0.2150 - accuracy: 0.9230 - val_loss: 0.7741 - val_accuracy: 0.7899\n",
            "Epoch 35/50\n",
            "625/625 [==============================] - 8s 13ms/step - loss: 0.2146 - accuracy: 0.9239 - val_loss: 0.7813 - val_accuracy: 0.7848\n",
            "Epoch 36/50\n",
            "625/625 [==============================] - 7s 12ms/step - loss: 0.2114 - accuracy: 0.9252 - val_loss: 0.7291 - val_accuracy: 0.8016\n",
            "Epoch 37/50\n",
            "625/625 [==============================] - 8s 13ms/step - loss: 0.2056 - accuracy: 0.9267 - val_loss: 0.7492 - val_accuracy: 0.7944\n",
            "Epoch 38/50\n",
            "625/625 [==============================] - 7s 12ms/step - loss: 0.2043 - accuracy: 0.9278 - val_loss: 0.7326 - val_accuracy: 0.7969\n",
            "Epoch 39/50\n",
            "625/625 [==============================] - 8s 14ms/step - loss: 0.1918 - accuracy: 0.9315 - val_loss: 0.7587 - val_accuracy: 0.7979\n",
            "Epoch 40/50\n",
            "625/625 [==============================] - 7s 12ms/step - loss: 0.1940 - accuracy: 0.9308 - val_loss: 0.7596 - val_accuracy: 0.8032\n",
            "Epoch 41/50\n",
            "625/625 [==============================] - 8s 13ms/step - loss: 0.1865 - accuracy: 0.9341 - val_loss: 0.6974 - val_accuracy: 0.7987\n",
            "Epoch 42/50\n",
            "625/625 [==============================] - 7s 11ms/step - loss: 0.1906 - accuracy: 0.9325 - val_loss: 0.7992 - val_accuracy: 0.7933\n",
            "Epoch 43/50\n",
            "625/625 [==============================] - 8s 13ms/step - loss: 0.1754 - accuracy: 0.9378 - val_loss: 0.7859 - val_accuracy: 0.7937\n",
            "Epoch 44/50\n",
            "625/625 [==============================] - 7s 11ms/step - loss: 0.1850 - accuracy: 0.9346 - val_loss: 0.7135 - val_accuracy: 0.8081\n",
            "Epoch 45/50\n",
            "625/625 [==============================] - 8s 13ms/step - loss: 0.1779 - accuracy: 0.9376 - val_loss: 0.7714 - val_accuracy: 0.8002\n",
            "Epoch 46/50\n",
            "625/625 [==============================] - 7s 12ms/step - loss: 0.1783 - accuracy: 0.9375 - val_loss: 0.7202 - val_accuracy: 0.8061\n",
            "Epoch 47/50\n",
            "625/625 [==============================] - 8s 12ms/step - loss: 0.1760 - accuracy: 0.9376 - val_loss: 0.8071 - val_accuracy: 0.7850\n",
            "Epoch 48/50\n",
            "625/625 [==============================] - 7s 11ms/step - loss: 0.1757 - accuracy: 0.9378 - val_loss: 0.7405 - val_accuracy: 0.8076\n",
            "Epoch 49/50\n",
            "625/625 [==============================] - 8s 12ms/step - loss: 0.1707 - accuracy: 0.9401 - val_loss: 0.7411 - val_accuracy: 0.8021\n",
            "Epoch 50/50\n",
            "625/625 [==============================] - 7s 11ms/step - loss: 0.1758 - accuracy: 0.9369 - val_loss: 0.7970 - val_accuracy: 0.7951\n"
          ]
        }
      ],
      "source": [
        "# Your implementation for Question 1\n",
        "import tensorflow as tf\n",
        "from tensorflow.keras import Sequential\n",
        "from tensorflow.keras.layers import Conv2D, MaxPooling2D, Flatten, Dense, BatchNormalization, Dropout\n",
        "\n",
        "model = Sequential([\n",
        "    Conv2D(32, (3, 3), activation='relu', input_shape=(32, 32, 3)),\n",
        "    BatchNormalization(),\n",
        "    Conv2D(64, (3, 3), activation='relu'),\n",
        "    BatchNormalization(),\n",
        "    MaxPooling2D((2, 2)),\n",
        "    Dropout(0.25),\n",
        "\n",
        "    Conv2D(128, (3, 3), activation='relu'),\n",
        "    BatchNormalization(),\n",
        "    MaxPooling2D((2, 2)),\n",
        "    Dropout(0.25),\n",
        "\n",
        "    Flatten(),\n",
        "    Dense(256, activation='relu'),\n",
        "    BatchNormalization(),\n",
        "    Dropout(0.5),\n",
        "    Dense(10, activation='softmax')\n",
        "])\n",
        "\n",
        "model.compile(optimizer='adam', loss='categorical_crossentropy', metrics=['accuracy'])\n",
        "\n",
        "hist = model.fit(X_train, Y_train, batch_size=64, epochs=50, validation_data=(X_valid, Y_valid))"
      ]
    },
    {
      "cell_type": "code",
      "execution_count": 18,
      "metadata": {
        "id": "3Amk91Chjzqz",
        "colab": {
          "base_uri": "https://localhost:8080/",
          "height": 449
        },
        "outputId": "e217003e-3dd3-4a58-8834-845f55f6fabf"
      },
      "outputs": [
        {
          "output_type": "display_data",
          "data": {
            "text/plain": [
              "<Figure size 640x480 with 1 Axes>"
            ],
            "image/png": "[encoded data removed]"
          },
          "metadata": {}
        }
      ],
      "source": [
        "# Plot the training loss and validation loss\n",
        "N = len(hist.history['loss'])\n",
        "plt.plot(np.arange(N), hist.history['loss'])\n",
        "plt.plot(np.arange(N), hist.history['val_loss'])\n",
        "plt.ylabel('loss')\n",
        "plt.xlabel('epoch')\n",
        "plt.legend(['training_loss', 'val_loss'], loc='upper right')\n",
        "plt.show()"
      ]
    },
    {
      "cell_type": "code",
      "execution_count": 19,
      "metadata": {
        "colab": {
          "base_uri": "https://localhost:8080/"
        },
        "id": "u2sqrBhMJkN6",
        "outputId": "4ef76ec3-5780-4aa3-b3b1-e324b6d710e7"
      },
      "outputs": [
        {
          "output_type": "stream",
          "name": "stdout",
          "text": [
            "Training accuracy   = 0.9926\n",
            "Validation accuracy = 0.7951\n",
            "Test accuracy       = 0.7992\n"
          ]
        }
      ],
      "source": [
        "res = model.evaluate(X_train, Y_train, verbose=0, batch_size=2048)\n",
        "print(f\"Training accuracy   = {res[1]:.4f}\")\n",
        "res = model.evaluate(X_valid, Y_valid, verbose=0, batch_size=2048)\n",
        "print(f\"Validation accuracy = {res[1]:.4f}\")\n",
        "res = model.evaluate(X_test, Y_test, verbose=0, batch_size=2048)\n",
        "print(f\"Test accuracy       = {res[1]:.4f}\")"
      ]
    }
  ],
  "metadata": {
    "colab": {
      "provenance": [],
      "include_colab_link": true
    },
    "kernelspec": {
      "display_name": "Python 3 (ipykernel)",
      "language": "python",
      "name": "python3"
    },
    "language_info": {
      "codemirror_mode": {
        "name": "ipython",
        "version": 3
      },
      "file_extension": ".py",
      "mimetype": "text/x-python",
      "name": "python",
      "nbconvert_exporter": "python",
      "pygments_lexer": "ipython3",
      "version": "3.10.12"
    }
  },
  "nbformat": 4,
  "nbformat_minor": 0
}